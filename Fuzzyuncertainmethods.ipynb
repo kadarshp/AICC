{
  "nbformat": 4,
  "nbformat_minor": 0,
  "metadata": {
    "colab": {
      "provenance": [],
      "authorship_tag": "ABX9TyNGRLKmwAWyqpDS0KImAoll",
      "include_colab_link": true
    },
    "kernelspec": {
      "name": "python3",
      "display_name": "Python 3"
    },
    "language_info": {
      "name": "python"
    }
  },
  "cells": [
    {
      "cell_type": "markdown",
      "metadata": {
        "id": "view-in-github",
        "colab_type": "text"
      },
      "source": [
        "<a href=\"https://colab.research.google.com/github/kadarshp/AICC/blob/main/Fuzzyuncertainmethods.ipynb\" target=\"_parent\"><img src=\"https://colab.research.google.com/assets/colab-badge.svg\" alt=\"Open In Colab\"/></a>"
      ]
    },
    {
      "cell_type": "code",
      "source": [
        "pip install scikit-fuzzy"
      ],
      "metadata": {
        "colab": {
          "base_uri": "https://localhost:8080/"
        },
        "id": "tw3Ytgo_o1cD",
        "outputId": "3ca10620-8168-4772-8c1a-779f69186410"
      },
      "execution_count": 2,
      "outputs": [
        {
          "output_type": "stream",
          "name": "stdout",
          "text": [
            "Looking in indexes: https://pypi.org/simple, https://us-python.pkg.dev/colab-wheels/public/simple/\n",
            "Collecting scikit-fuzzy\n",
            "  Downloading scikit-fuzzy-0.4.2.tar.gz (993 kB)\n",
            "\u001b[2K     \u001b[90m━━━━━━━━━━━━━━━━━━━━━━━━━━━━━━━━━━━━━━\u001b[0m \u001b[32m994.0/994.0 kB\u001b[0m \u001b[31m13.4 MB/s\u001b[0m eta \u001b[36m0:00:00\u001b[0m\n",
            "\u001b[?25h  Preparing metadata (setup.py) ... \u001b[?25l\u001b[?25hdone\n",
            "Requirement already satisfied: numpy>=1.6.0 in /usr/local/lib/python3.10/dist-packages (from scikit-fuzzy) (1.22.4)\n",
            "Requirement already satisfied: scipy>=0.9.0 in /usr/local/lib/python3.10/dist-packages (from scikit-fuzzy) (1.10.1)\n",
            "Requirement already satisfied: networkx>=1.9.0 in /usr/local/lib/python3.10/dist-packages (from scikit-fuzzy) (3.1)\n",
            "Building wheels for collected packages: scikit-fuzzy\n",
            "  Building wheel for scikit-fuzzy (setup.py) ... \u001b[?25l\u001b[?25hdone\n",
            "  Created wheel for scikit-fuzzy: filename=scikit_fuzzy-0.4.2-py3-none-any.whl size=894073 sha256=237d6d1d14ed99680318749d1db5b0d379a4cae4fd28c5d329f5c836fd63c9db\n",
            "  Stored in directory: /root/.cache/pip/wheels/4f/86/1b/dfd97134a2c8313e519bcebd95d3fedc7be7944db022094bc8\n",
            "Successfully built scikit-fuzzy\n",
            "Installing collected packages: scikit-fuzzy\n",
            "Successfully installed scikit-fuzzy-0.4.2\n"
          ]
        }
      ]
    },
    {
      "cell_type": "code",
      "execution_count": 3,
      "metadata": {
        "colab": {
          "base_uri": "https://localhost:8080/"
        },
        "id": "pBoAaYvsobQr",
        "outputId": "dd287569-3151-43e6-c451-34646e65aa5a"
      },
      "outputs": [
        {
          "output_type": "stream",
          "name": "stdout",
          "text": [
            "14.044061302681994\n"
          ]
        }
      ],
      "source": [
        "import numpy as np\n",
        "import skfuzzy as fuzz\n",
        "from skfuzzy import control as ctrl\n",
        "\n",
        "# Create the fuzzy variables\n",
        "temperature = ctrl.Antecedent(np.arange(0, 101, 1), 'temperature')\n",
        "output = ctrl.Consequent(np.arange(0, 26, 1), 'output')\n",
        "\n",
        "# Define the fuzzy membership functions\n",
        "temperature['cold'] = fuzz.trimf(temperature.universe, [0, 0, 50])\n",
        "temperature['mild'] = fuzz.trimf(temperature.universe, [0, 50, 100])\n",
        "temperature['hot'] = fuzz.trimf(temperature.universe, [50, 100, 100])\n",
        "\n",
        "output['low'] = fuzz.trimf(output.universe, [0, 0, 13])\n",
        "output['medium'] = fuzz.trimf(output.universe, [0, 13, 25])\n",
        "output['high'] = fuzz.trimf(output.universe, [13, 25, 25])\n",
        "\n",
        "# Define the fuzzy rules\n",
        "rule1 = ctrl.Rule(temperature['cold'], output['low'])\n",
        "rule2 = ctrl.Rule(temperature['mild'], output['medium'])\n",
        "rule3 = ctrl.Rule(temperature['hot'], output['high'])\n",
        "\n",
        "# Create the control system\n",
        "temperature_ctrl = ctrl.ControlSystem([rule1, rule2, rule3])\n",
        "controller = ctrl.ControlSystemSimulation(temperature_ctrl)\n",
        "\n",
        "# Set the input temperature\n",
        "controller.input['temperature'] = 75\n",
        "\n",
        "# Evaluate the control system\n",
        "controller.compute()\n",
        "\n",
        "# Print the output\n",
        "print(controller.output['output'])\n"
      ]
    }
  ]
}